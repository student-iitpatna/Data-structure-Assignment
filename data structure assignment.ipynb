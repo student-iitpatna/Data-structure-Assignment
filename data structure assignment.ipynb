{
 "cells": [
  {
   "cell_type": "code",
   "execution_count": null,
   "id": "d40dfadc-f47c-428b-950d-4fadad7f8b19",
   "metadata": {},
   "outputs": [],
   "source": [
    "#QUESTION 1:\n",
    "#DISCUSS STRING SLICING AND PROVIDE EXAMPLES\n",
    "\n",
    "String slicing is a fundamental concept in programming that allows you to extract a subset of characters from a string. It's a powerful technique used to manipulate and process strings in various programming languages.\n",
    "\n",
    "Basic Syntax\n",
    "The basic syntax for string slicing is as follows:\n",
    "\n",
    "string[start:stop:step]\n",
    "start: The starting index of the slice (inclusive).\n",
    "stop: The ending index of the slice (exclusive).\n",
    "step: The increment between indices (default is 1).\n",
    "\n"
   ]
  },
  {
   "cell_type": "code",
   "execution_count": 1,
   "id": "0b67dcac-d2c5-45cb-8cb2-9e408203af28",
   "metadata": {},
   "outputs": [
    {
     "name": "stdout",
     "output_type": "stream",
     "text": [
      "hel\n"
     ]
    }
   ],
   "source": [
    "1. BASIC SLICING\n",
    "hello = \"hello\"\n",
    "print(hello[0:3]) "
   ]
  },
  {
   "cell_type": "code",
   "execution_count": 2,
   "id": "f1b78340-7ef2-4d88-be06-5402d8e911c9",
   "metadata": {},
   "outputs": [
    {
     "name": "stdout",
     "output_type": "stream",
     "text": [
      "hel\n",
      "llo\n"
     ]
    }
   ],
   "source": [
    "2. STOP INDEX\n",
    "hello = \"hello\"\n",
    "print(hello[:3])  \n",
    "print(hello[2:])"
   ]
  },
  {
   "cell_type": "code",
   "execution_count": 3,
   "id": "ee769517-d388-4a51-9b81-0a079b55f837",
   "metadata": {},
   "outputs": [
    {
     "name": "stdout",
     "output_type": "stream",
     "text": [
      "o\n",
      "llo\n"
     ]
    }
   ],
   "source": [
    "3. NEGATIVE INDICES\n",
    "hello = \"hello\"\n",
    "print(hello[-1])  # Output: \"o\"\n",
    "print(hello[-3:])"
   ]
  },
  {
   "cell_type": "code",
   "execution_count": 4,
   "id": "5e220299-25c2-425e-bdb0-7e715ce5d0c5",
   "metadata": {},
   "outputs": [
    {
     "name": "stdout",
     "output_type": "stream",
     "text": [
      "hlo\n",
      "olleh\n"
     ]
    }
   ],
   "source": [
    "4.STEP PARAMETER\n",
    "hello = \"hello\"\n",
    "print(hello[::2])  # Output: \"hlo\"\n",
    "print(hello[::-1])"
   ]
  },
  {
   "cell_type": "code",
   "execution_count": null,
   "id": "3e8e57d0-dcfc-4f92-95da-64726e49b6e8",
   "metadata": {},
   "outputs": [],
   "source": [
    "#QUESTION 2:\n",
    "# EXPLAIN THE KEY FEATURES OF LIST IN PYTHON\n",
    "\n",
    "Lists are a fundamental data structure in Python, and they offer a wide range of features that make them versatile and powerful.\n",
    "Here are the key features of lists in Python:\n",
    "\n",
    "1. ORDERED COLLECTION:\n",
    "Lists are an ordered collection of items, which means that the order of the elements matters.\n",
    "You can access and manipulate elements based on their index.\n",
    "2. MUTUBALE:\n",
    "Lists are mutable, meaning you can modify them after creation. You can add, remove, or modify elements in a list.\n",
    "3. DYNAMIC SIZE:\n",
    "Lists can grow or shrink dynamically as elements are added or removed. \n",
    "4. HETEROGENEOUS:\n",
    "Lists can contain elements of different data types, including strings, integers, floats, and even other lists.\n",
    "5. INDEXING AND SLICING:\n",
    "Lists support indexing and slicing, which allows you to access and manipulate specific elements or ranges of elements.\n",
    "6. APPEND, INSERT AND EXTEND:\n",
    "Lists provide methods to add elements to the end of the list (append), insert elements at a specific position (insert),\n",
    "and extend the list with another list (extend).\n",
    "7. REMOVE AND POP:\n",
    "Lists provide methods to remove the first occurrence of an element (remove) and remove and return an element at a specific\n",
    "position (pop).\n",
    "8. SORT AND REVERSE:\n",
    "Lists provide methods to sort the elements in ascending or descending order (sort) and reverse the order of the elements \n",
    "(reverse).\n",
    "9. ITERATION:\n",
    "Lists support iteration, which allows you to loop through the elements of the list using a for loop or other iteration constructs.\n",
    "10. NESTED LISTS:\n",
    "Lists can be nested, which means you can create lists within lists. This allows you to represent complex data structures,\n",
    "such as matrices or trees."
   ]
  },
  {
   "cell_type": "code",
   "execution_count": null,
   "id": "3ea346a9-c55f-4a56-9197-24054a9b2548",
   "metadata": {},
   "outputs": [],
   "source": [
    "#QUESTION 3:\n",
    "#DESCRIBE HOW ACCESS, MODIFY AND DELETE ELEMENTS IN A LIST WITH EXAMPLES:\n",
    "\n",
    "ACCESSING ELEMENTS\n",
    "We can access elements in a list using their index. The index of the first element is 0, the second element is 1, and so on."
   ]
  },
  {
   "cell_type": "code",
   "execution_count": 5,
   "id": "ba5e8079-4784-47cc-bafb-c07981710073",
   "metadata": {},
   "outputs": [
    {
     "name": "stdout",
     "output_type": "stream",
     "text": [
      "1\n",
      "2\n",
      "5\n"
     ]
    }
   ],
   "source": [
    "my_list = [1, 2, 3, 4, 5]\n",
    "print(my_list[0])  \n",
    "print(my_list[1])  \n",
    "print(my_list[-1])  "
   ]
  },
  {
   "cell_type": "code",
   "execution_count": 6,
   "id": "0f068c18-1d0c-4bd2-8418-035852738430",
   "metadata": {},
   "outputs": [
    {
     "name": "stdout",
     "output_type": "stream",
     "text": [
      "[10, 2, 3, 4, 5]\n"
     ]
    }
   ],
   "source": [
    "MODIFY ELEMENTS\n",
    "We can modify elements in a list by assigning a new value to the index.\n",
    "my_list = [1, 2, 3, 4, 5]\n",
    "my_list[0] = 10\n",
    "print(my_list)  "
   ]
  },
  {
   "cell_type": "code",
   "execution_count": 7,
   "id": "37d5da5a-485a-4460-a44d-c31051521524",
   "metadata": {},
   "outputs": [
    {
     "name": "stdout",
     "output_type": "stream",
     "text": [
      "[2, 3, 4, 5]\n"
     ]
    }
   ],
   "source": [
    "DELETE ELEMENTS\n",
    "We can delete elements from a list using the del statement or the remove() method.\n",
    "\n",
    "USING del STATEMENT\n",
    "\n",
    "my_list = [1, 2, 3, 4, 5]\n",
    "del my_list[0]\n",
    "print(my_list)  "
   ]
  },
  {
   "cell_type": "code",
   "execution_count": 8,
   "id": "65778df8-0867-4f86-be6b-40c2f46e94e5",
   "metadata": {},
   "outputs": [
    {
     "name": "stdout",
     "output_type": "stream",
     "text": [
      "[1, 2, 4, 5]\n"
     ]
    }
   ],
   "source": [
    "USING remove() METHOD\n",
    "\n",
    "my_list = [1, 2, 3, 4, 5]\n",
    "my_list.remove(3)\n",
    "print(my_list)  \n",
    "\n",
    "#The remove() method removes the first occurrence of the specified value. If the value is not found in the list, \n",
    "#it raises a ValueError."
   ]
  },
  {
   "cell_type": "code",
   "execution_count": null,
   "id": "3d4b273e-9285-4920-9d67-529af7c63417",
   "metadata": {},
   "outputs": [],
   "source": [
    "#QUESTION 4:\n",
    "#Comparing and Contrasting Tuples and Lists in Python\n",
    "In Python, tuples and lists are two fundamental data structures that are often confused with each other.\n",
    "While they share some similarities, they have distinct differences in terms of their syntax, behavior, and use cases.\n",
    "\n",
    "SIMILARITIES\n",
    "\n",
    "*Both tuples and lists are ordered collections of elements.\n",
    "*Both can contain elements of different data types, such as strings, integers, floats, and other tuples or lists.\n",
    "*Both support indexing and slicing to access and manipulate elements.\n",
    "DIFFERENCES\n",
    "\n",
    "1. SYNTAX\n",
    "Tuples are defined using parentheses () and elements are separated by commas. Lists are defined using square brackets [] and \n",
    "elements are also separated by commas.\n",
    "\n",
    "my_tuple = (1, 2, 3, 4, 5)\n",
    "my_list = [1, 2, 3, 4, 5]\n",
    "\n",
    "2. MUTABILITY\n",
    "Tuples are immutable, meaning their elements cannot be modified after creation. Lists are mutable, meaning their elements\n",
    "can be modified after creation.\n",
    "\n",
    "my_tuple = (1, 2, 3, 4, 5)\n",
    "try:\n",
    "    my_tuple[0] = 10\n",
    "except TypeError:\n",
    "    print(\"Tuples are immutable\")\n",
    "\n",
    "my_list = [1, 2, 3, 4, 5]\n",
    "my_list[0] = 10\n",
    "print(my_list)  # Output: [10, 2, 3, 4, 5]\n",
    "\n",
    "3. PERFORMANCE\n",
    "Tuples are generally faster and more memory-efficient than lists because they are immutable and can be optimized by the Python \n",
    "interpreter.\n",
    "\n",
    "4. USE CASES\n",
    "***Tuples are often used when you need an immutable collection of elements, such as:\n",
    "\n",
    "Representing a point in 2D or 3D space\n",
    "Storing a database record with multiple fields\n",
    "Creating a dictionary key (since tuples are hashable)\n",
    "***Lists are often used when you need a dynamic collection of elements, such as:\n",
    "\n",
    "Storing a collection of items that need to be modified or extended\n",
    "Implementing a stack or queue data structure\n",
    "Creating a matrix or table with dynamic rows and columns\n",
    "Examples\n",
    "Tuple Example\n",
    "\n",
    "my_tuple = (1, 2, 3, 4, 5)\n",
    "print(my_tuple[0])  # Output: 1\n",
    "try:\n",
    "    my_tuple[0] = 10\n",
    "except TypeError:\n",
    "    print(\"Tuples are immutable\")\n",
    "List Example\n",
    "\n",
    "my_list = [1, 2, 3, 4, 5]\n",
    "print(my_list[0])  # Output: 1\n",
    "my_list[0] = 10\n",
    "print(my_list)  # Output: [10, 2, 3, 4, 5]\n",
    "In summary, tuples are immutable, faster, and more memory-efficient, while lists are mutable, dynamic, and more flexible.\n",
    "\n"
   ]
  },
  {
   "cell_type": "code",
   "execution_count": null,
   "id": "65d4c9d7-4c09-4d1e-a6ad-fa491e230e93",
   "metadata": {},
   "outputs": [],
   "source": [
    "#QUESTION 5:\n",
    "#DISCUSS THE KEY FEATURE OF SETS AND PROVIDE EXAMPLE OF THEIR USE:\n",
    "\n",
    "KEY FEATURES OF SETS AND THEIR USE CASE\n",
    "In Python, sets are an unordered collection of unique elements. They are used to store multiple items in a single variable \n",
    "and are particularly useful when you need to perform mathematical operations like union, intersection, and difference.\n",
    "\n",
    "KEY FEATURE OF SETS:::\n",
    "*Unordered: Sets are unordered, meaning that the order of elements is not preserved.\n",
    "*Unique Elements: Sets only store unique elements, eliminating duplicates.\n",
    "*Fast Membership Testing: Sets provide fast membership testing, allowing you to quickly check if an element is present in the set\n",
    "*Mathematical Operations: Sets support various mathematical operations like union, intersection, and difference.\n",
    "\n"
   ]
  },
  {
   "cell_type": "code",
   "execution_count": null,
   "id": "aacbad3b-1f65-4926-a6a1-e0ba5c2e214d",
   "metadata": {},
   "outputs": [],
   "source": [
    "  CREATING SETS\n",
    "You can create a set in Python using the set() function or the {} syntax."
   ]
  },
  {
   "cell_type": "code",
   "execution_count": 9,
   "id": "ea28afdf-08c8-4cc4-9dc4-762864161e34",
   "metadata": {},
   "outputs": [
    {
     "name": "stdout",
     "output_type": "stream",
     "text": [
      "{1, 2, 3, 4, 5}\n"
     ]
    }
   ],
   "source": [
    "# Using the set() function\n",
    "my_set = set([1, 2, 3, 4, 5])\n",
    "print(my_set)  "
   ]
  },
  {
   "cell_type": "code",
   "execution_count": 10,
   "id": "7baee178-7809-4570-bba1-7e91bafca680",
   "metadata": {},
   "outputs": [
    {
     "name": "stdout",
     "output_type": "stream",
     "text": [
      "{1, 2, 3, 4, 5}\n"
     ]
    }
   ],
   "source": [
    "# Using the {} syntax\n",
    "my_set = {1, 2, 3, 4, 5}\n",
    "print(my_set)  "
   ]
  },
  {
   "cell_type": "code",
   "execution_count": 11,
   "id": "1248041c-12a1-4432-b452-b03ba3a24fff",
   "metadata": {},
   "outputs": [
    {
     "name": "stdout",
     "output_type": "stream",
     "text": [
      "{1, 2, 3, 4, 5}\n",
      "{1, 2, 3, 4, 5}\n"
     ]
    }
   ],
   "source": [
    "#SET OPERATIONS\n",
    "#Sets support various mathematical operations:\n",
    "  UNION\n",
    "#The union of two sets A and B is a set containing all elements from both sets.\n",
    "A = {1, 2, 3}\n",
    "B = {3, 4, 5}\n",
    "print(A.union(B))  \n",
    "print(A | B)  "
   ]
  },
  {
   "cell_type": "code",
   "execution_count": 13,
   "id": "bd7fda68-735b-4039-a37a-764835469676",
   "metadata": {},
   "outputs": [
    {
     "name": "stdout",
     "output_type": "stream",
     "text": [
      "{3}\n",
      "{3}\n"
     ]
    }
   ],
   "source": [
    "     INTERSECTION\n",
    "#The intersection of two sets A and B is a set containing elements common to both sets.\n",
    "A = {1, 2, 3}\n",
    "B = {3, 4, 5}\n",
    "print(A.intersection(B))  \n",
    "print(A & B)  "
   ]
  },
  {
   "cell_type": "code",
   "execution_count": 14,
   "id": "04f24903-c1e5-44e6-8df5-83e29cc63dda",
   "metadata": {},
   "outputs": [
    {
     "name": "stdout",
     "output_type": "stream",
     "text": [
      "{1, 2}\n",
      "{1, 2}\n"
     ]
    }
   ],
   "source": [
    "      DIFFERENCE\n",
    "#The difference of two sets A and B is a set containing elements in A but not in B.\n",
    "A = {1, 2, 3}\n",
    "B = {3, 4, 5}\n",
    "print(A.difference(B))  \n",
    "print(A - B) "
   ]
  },
  {
   "cell_type": "code",
   "execution_count": 15,
   "id": "6d433c9f-b16f-4b6a-bd44-5574d6ae5ba0",
   "metadata": {},
   "outputs": [
    {
     "name": "stdout",
     "output_type": "stream",
     "text": [
      "{1, 2, 4, 5}\n",
      "{1, 2, 4, 5}\n"
     ]
    }
   ],
   "source": [
    " SYMMETRIC DIFFERENCE\n",
    "#The symmetric difference of two sets A and B is a set containing elements in either A or B but not both.\n",
    "\n",
    "A = {1, 2, 3}\n",
    "B = {3, 4, 5}\n",
    "print(A.symmetric_difference(B))  \n",
    "print(A ^ B)  "
   ]
  },
  {
   "cell_type": "code",
   "execution_count": 19,
   "id": "1f86ceaa-be66-45f3-a72f-ce4b6e668dbe",
   "metadata": {},
   "outputs": [
    {
     "name": "stdout",
     "output_type": "stream",
     "text": [
      "{1, 2, 3, 4, 5}\n"
     ]
    }
   ],
   "source": [
    "    REMOVING DUPLICATES\n",
    "#Sets can be used to remove duplicates from a list.\n",
    "my_list = [1, 2, 2, 3, 4, 4, 5] \n",
    "my_set = set(my_list) \n",
    "print(my_set)\n"
   ]
  },
  {
   "cell_type": "code",
   "execution_count": 6,
   "id": "ae368e9c-7567-4d26-9d27-c57201501d23",
   "metadata": {},
   "outputs": [
    {
     "name": "stdout",
     "output_type": "stream",
     "text": [
      "(2022, 12, 31)\n"
     ]
    }
   ],
   "source": [
    "#QUESTION 6:\n",
    "#DISCUSS THE USE CASES OF TUPLES AND SETS IN PYTHON PROGRAMMING\n",
    "\n",
    "  Tuples and sets are two fundamental data structures in Python that have various use cases in programming.\n",
    "\n",
    "USE CASES OF TUPLES\n",
    "1. REPRESENTING IMMUTABLE DATA:\n",
    "    Tuples are ideal for representing immutable data, such as dates, times, or coordinates.\n",
    "\n",
    "date = (2022, 12, 31) \n",
    "print(date) \n",
    "\n"
   ]
  },
  {
   "cell_type": "code",
   "execution_count": 1,
   "id": "c7bd1a12-df3d-4515-ad39-0694caa3161f",
   "metadata": {},
   "outputs": [
    {
     "name": "stdout",
     "output_type": "stream",
     "text": [
      "John Doe\n",
      "30\n"
     ]
    }
   ],
   "source": [
    "2.*RETURNING MULTIPLE VALUE SFROM A FUNCTION**: \n",
    "    Tuples can be used to return multiple values from a function.\n",
    "\n",
    "def get_name_and_age():\n",
    "    return (\"John Doe\", 30)\n",
    "\n",
    "name, age = get_name_and_age()\n",
    "print(name)  \n",
    "print(age)   "
   ]
  },
  {
   "cell_type": "code",
   "execution_count": 3,
   "id": "d57c2df3-7f23-4e91-a4ff-92ff0609e5f1",
   "metadata": {},
   "outputs": [
    {
     "name": "stdout",
     "output_type": "stream",
     "text": [
      "John Doe\n"
     ]
    }
   ],
   "source": [
    "3. CREATING DICTIONARY KEYS: \n",
    "    Tuples can be used as dictionary keys because they are immutable.\n",
    "person = {(2022, 12, 31): \"John Doe\"} \n",
    "print(person[(2022, 12, 31)])"
   ]
  },
  {
   "cell_type": "code",
   "execution_count": 4,
   "id": "e318a5bc-5d17-47de-b56e-8ef473a14851",
   "metadata": {},
   "outputs": [
    {
     "name": "stdout",
     "output_type": "stream",
     "text": [
      "John Doe\n",
      "30\n",
      "New York\n"
     ]
    }
   ],
   "source": [
    "4. REPRESENTING A RECORD: \n",
    "    Tuples can be used to represent a record, such as a row in a database table.\n",
    "person = (\"John Doe\", 30, \"New York\")\n",
    "print(person[0])  # Output: John Doe\n",
    "print(person[1])  # Output: 30\n",
    "print(person[2])  # Output: New York"
   ]
  },
  {
   "cell_type": "code",
   "execution_count": 7,
   "id": "e3ecdebc-94af-42ce-9707-65a7c0eb3e77",
   "metadata": {},
   "outputs": [
    {
     "name": "stdout",
     "output_type": "stream",
     "text": [
      "{1, 2, 3, 4, 5}\n"
     ]
    }
   ],
   "source": [
    " USE CASES OF SETS\n",
    "1. REMOVING DUPLICATES:\n",
    "     Sets can be used to remove duplicates from a list.\n",
    "\n",
    "        \n",
    "numbers = [1, 2, 2, 3, 4, 4, 5] \n",
    "unique_numbers = set(numbers) \n",
    "print(unique_numbers) "
   ]
  },
  {
   "cell_type": "code",
   "execution_count": 8,
   "id": "c43c5b77-d52f-48dd-b675-f4fc3f69f924",
   "metadata": {},
   "outputs": [
    {
     "name": "stdout",
     "output_type": "stream",
     "text": [
      "True\n",
      "False\n"
     ]
    }
   ],
   "source": [
    " 2. FAST MEMBERSHIP TESTING:\n",
    "    Sets provide fast membership testing, making them useful for checking if an element is present in a collection.\n",
    "    \n",
    "numbers = {1, 2, 3, 4, 5}\n",
    "print(3 in numbers)  \n",
    "print(6 in numbers) "
   ]
  },
  {
   "cell_type": "code",
   "execution_count": 11,
   "id": "a697c20b-64b0-489f-987a-1a575dfd598e",
   "metadata": {},
   "outputs": [
    {
     "name": "stdout",
     "output_type": "stream",
     "text": [
      "{1, 2, 3, 4, 5}\n"
     ]
    }
   ],
   "source": [
    "3. MATHEMATICAL OPERATORS:\n",
    "Sets support various mathematical operations, making them useful for solving problems involving set theory.\n",
    "\n",
    "A = {1, 2, 3} \n",
    "B = {3, 4, 5} \n",
    "print(A.union(B)) \n",
    "\n"
   ]
  },
  {
   "cell_type": "code",
   "execution_count": 9,
   "id": "c0c0cee5-5aad-4fef-9469-86be355888e3",
   "metadata": {},
   "outputs": [
    {
     "name": "stdout",
     "output_type": "stream",
     "text": [
      "{1, 2, 3, 4, 5, 6, 7, 8, 9}\n"
     ]
    }
   ],
   "source": [
    "4. FINDING UNIQUE ELEMENTS:\n",
    "    Sets can be used to find unique elements in multiple lists.\n",
    "    \n",
    "list1 = [1, 2, 2, 3, 4, 4, 5]\n",
    "list2 = [4, 5, 6, 7, 8, 8, 9]\n",
    "unique_elements = set(list1 + list2)\n",
    "print(unique_elements)  "
   ]
  },
  {
   "cell_type": "code",
   "execution_count": null,
   "id": "ca3c1c1c-5619-42cf-8f36-a9d560bf8eea",
   "metadata": {},
   "outputs": [],
   "source": [
    "#QUESTION 7:\n",
    "#DESCRIBE HOW TO ADD, MODIFY AND DELETE ITEMS IN A DICTIONARY WITH EXAMPLES:\n",
    "\n",
    "1.ADDING ITEMS IN A DICTIONARY:\n",
    "    To add an item to a dictionary, you can simply assign a value to a new key. If the key does not exist, it will be created."
   ]
  },
  {
   "cell_type": "code",
   "execution_count": 1,
   "id": "0a5736e2-9382-4c53-82bb-b1ead366669c",
   "metadata": {},
   "outputs": [
    {
     "name": "stdout",
     "output_type": "stream",
     "text": [
      "{'name': 'John', 'age': 30}\n"
     ]
    }
   ],
   "source": [
    "my_dict = {}\n",
    "my_dict['name'] = 'John'\n",
    "my_dict['age'] = 30\n",
    "\n",
    "print(my_dict)"
   ]
  },
  {
   "cell_type": "code",
   "execution_count": null,
   "id": "d5b3f6f0-37ec-4a1b-83d9-cdfdfd6d7319",
   "metadata": {},
   "outputs": [],
   "source": [
    "2. MODIFY ITEMS IN A DICTIONARY:\n",
    "    To modify an item in a dictionary, you can simply assign a new value to an existing key."
   ]
  },
  {
   "cell_type": "code",
   "execution_count": 2,
   "id": "9f6b586f-77c1-495c-9924-6d9ef28da0a2",
   "metadata": {},
   "outputs": [
    {
     "name": "stdout",
     "output_type": "stream",
     "text": [
      "{'name': 'Jane', 'age': 30}\n"
     ]
    }
   ],
   "source": [
    "my_dict = {'name': 'John', 'age': 30}\n",
    "my_dict['name'] = 'Jane'\n",
    "\n",
    "print(my_dict)"
   ]
  },
  {
   "cell_type": "code",
   "execution_count": null,
   "id": "c4112d12-5422-4c9f-8446-653bd759a19c",
   "metadata": {},
   "outputs": [],
   "source": [
    "3. DELETING ITEMS FROM A DICTIONARY:\n",
    "    To delete an item from a dictionary, you can use the del statement or the pop() method."
   ]
  },
  {
   "cell_type": "code",
   "execution_count": 3,
   "id": "94fbfffb-e4ed-41c4-b100-3c99a931c6b0",
   "metadata": {},
   "outputs": [
    {
     "name": "stdout",
     "output_type": "stream",
     "text": [
      "{'name': 'John'}\n"
     ]
    }
   ],
   "source": [
    "my_dict = {'name': 'John', 'age': 30}\n",
    "del my_dict['age']\n",
    "\n",
    "print(my_dict) "
   ]
  },
  {
   "cell_type": "code",
   "execution_count": null,
   "id": "bac54fad-6acc-40bd-8c65-555f70bb39b3",
   "metadata": {},
   "outputs": [],
   "source": [
    "#QUETSION 8:\n",
    "# DISCUSS THE IMPORTANCE OF DICTIONARY KEYS BEING IMMUTABLE AND PROVIDE EXAMPLE..\n",
    "\n",
    "THE IMPORTANCE OF DICTIONARY KEYS BEING IMMUTABLE\n",
    "\n",
    "In Python, dictionary keys must be immutable, meaning they cannot be changed after they are created. \n",
    "\n",
    "WHY DICTIONARIES KEYS MUST BE IMMUTABLE:\n",
    "\n",
    "The reason dictionary keys must be immutable is that dictionaries use a hash table to store their key-value pairs. \n",
    "A hash table is a data structure that maps keys to values using a hash function, which generates a unique hash code for each key. \n",
    "This hash code is used to store and retrieve the corresponding value.\n",
    "\n",
    "If dictionary keys were mutable, it would be possible to change the key after it's been added to the dictionary.\n",
    "This would cause problems because the hash code generated for the original key would no longer match the new key, \n",
    "making it impossible to retrieve the associated value.\n",
    "\n",
    "Example: What Happens When You Try to Use a Mutable Object as a Dictionary Key\n",
    "\n",
    "my_dict = {}\n",
    "my_key = [1, 2, 3]\n",
    "my_dict[my_key] = 'value'\n",
    "\n",
    "print(my_dict)  # Output: {[1, 2, 3]: 'value'}\n",
    "\n",
    "# Now, let's modify the list\n",
    "my_key.append(4)\n",
    "\n",
    "print(my_dict)  # Output: {[1, 2, 3]: 'value'} (no change)\n",
    "\n",
    "# But, if we try to access the value using the modified list, it won't work\n",
    "print(my_dict[[1, 2, 3, 4]])  # Raises a KeyError\n",
    "As you can see, even though we modified the list, the dictionary still stores the original list as the key. This is because the hash code generated for the original list is different from the hash code generated for the modified list.\n",
    "\n",
    "\n",
    "In summary, dictionary keys must be immutable to ensure that the hash code generated for the key remains the same, allowing us to store and retrieve values correctly. If you try to use a mutable object as a dictionary key, you may encounter unexpected behavior or errors.\n",
    "\n",
    "\n"
   ]
  },
  {
   "cell_type": "code",
   "execution_count": null,
   "id": "cbfa0bef-0f78-4dad-96b3-7863f24acf9e",
   "metadata": {},
   "outputs": [],
   "source": [
    "my_dict = {}\n",
    "my_key = [1, 2, 3]\n",
    "my_dict[my_key] = 'value'\n",
    "\n",
    "print(my_dict)  # Output: {[1, 2, 3]: 'value'}\n",
    "\n",
    "# Now, let's modify the list\n",
    "my_key.append(4)\n",
    "\n",
    "print(my_dict)  # Output: {[1, 2, 3]: 'value'} (no change)\n",
    "\n",
    "# But, if we try to access the value using the modified list, it won't work\n",
    "print(my_dict[[1, 2, 3, 4]])  # Raises a KeyError"
   ]
  },
  {
   "cell_type": "code",
   "execution_count": 4,
   "id": "d44ff242-75c6-4d54-b722-7933594b183a",
   "metadata": {},
   "outputs": [
    {
     "name": "stdout",
     "output_type": "stream",
     "text": [
      "{(1, 2, 3): 'value'}\n"
     ]
    }
   ],
   "source": [
    "EXAMPLE: USING A TUPLE AS A DICTIONARY KEY\n",
    "\n",
    "my_dict = {}\n",
    "my_key = (1, 2, 3)\n",
    "my_dict[my_key] = 'value'\n",
    "\n",
    "print(my_dict)  \n"
   ]
  },
  {
   "cell_type": "code",
   "execution_count": 5,
   "id": "6a49e694-82fd-4888-9b97-c7b15fcc471d",
   "metadata": {},
   "outputs": [
    {
     "name": "stdout",
     "output_type": "stream",
     "text": [
      "value\n"
     ]
    }
   ],
   "source": [
    "# We can't modify a tuple, so we can't change the key\n",
    "# But we can access the value using the original tuple\n",
    "print(my_dict[(1, 2, 3)])\n",
    "\n",
    "In summary, dictionary keys must be immutable to ensure that the hash code generated for the key remains the same, \n",
    "allowing us to store and retrieve values correctly. If you try to use a mutable object as a dictionary key, you may encounter\n",
    "unexpected behavior or errors."
   ]
  },
  {
   "cell_type": "code",
   "execution_count": null,
   "id": "533e6921-4822-4999-a6a6-bdf9105e55f6",
   "metadata": {},
   "outputs": [],
   "source": []
  }
 ],
 "metadata": {
  "kernelspec": {
   "display_name": "Python 3 (ipykernel)",
   "language": "python",
   "name": "python3"
  },
  "language_info": {
   "codemirror_mode": {
    "name": "ipython",
    "version": 3
   },
   "file_extension": ".py",
   "mimetype": "text/x-python",
   "name": "python",
   "nbconvert_exporter": "python",
   "pygments_lexer": "ipython3",
   "version": "3.10.8"
  }
 },
 "nbformat": 4,
 "nbformat_minor": 5
}
